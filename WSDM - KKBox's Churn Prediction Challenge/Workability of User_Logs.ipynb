{
  "cells": [
    {
      "metadata": {
        "collapsed": true,
        "_uuid": "af67c81781bcdc31b5e6c461b56ba25af1d021f0",
        "_cell_guid": "be751f7c-0351-488d-b9a5-687194174e01",
        "trusted": false
      },
      "cell_type": "code",
      "source": "# This Python 3 environment comes with many helpful analytics libraries installed\n# It is defined by the kaggle/python docker image: https://github.com/kaggle/docker-python\n# For example, here's several helpful packages to load in \n\nimport numpy as np # linear algebra\nimport pandas as pd # data processing, CSV file I/O (e.g. pd.read_csv)\n\n# Input data files are available in the \"../input/\" directory.\n# For example, running this (by clicking run or pressing Shift+Enter) will list the files in the input directory\n\nfrom subprocess import check_output\nprint(check_output([\"ls\", \"../input\"]).decode(\"utf8\"))\n\n# Any results you write to the current directory are saved as output.",
      "execution_count": null,
      "outputs": []
    },
    {
      "metadata": {
        "collapsed": true,
        "_uuid": "faf3dbaf5776ebb2a74be46a23e44bad1ff79bb8",
        "_cell_guid": "61a9d8e4-c283-44be-ae5e-98498dedf633",
        "trusted": false
      },
      "cell_type": "code",
      "source": "userlog = pd.DataFrame();\nlog = pd.read_csv('../input/user_logs.csv', engine='c', sep=',', chunksize=10000000, usecols=['msno','num_985','num_100','total_secs']);\ncount =1\nfor chunk in log:\n    userlog = userlog.append(chunk.groupby('msno').sum())\n    print(count)\n    count+=1;",
      "execution_count": null,
      "outputs": []
    },
    {
      "metadata": {
        "collapsed": true,
        "_uuid": "7014430c0d09d173458bed598e97c3364b3974e5",
        "_cell_guid": "8350e1c4-6217-4276-aed0-04e8ac246a9a",
        "trusted": false
      },
      "cell_type": "code",
      "source": "userlog = userlog.groupby(level=0).sum()",
      "execution_count": null,
      "outputs": []
    },
    {
      "metadata": {
        "collapsed": true,
        "_uuid": "4f6fa9a43d9a79f7c8e32e86cf91435801a11330",
        "_cell_guid": "7025780c-4391-4b5e-8fb0-f7c901ebec4d",
        "trusted": false
      },
      "cell_type": "code",
      "source": "userlog.to_csv(\"user_logs.csv\")",
      "execution_count": null,
      "outputs": []
    },
    {
      "metadata": {
        "collapsed": true,
        "_uuid": "a0a3639634ecd8b102659bb9e524a99f76f2e657",
        "_cell_guid": "1db683dd-9689-4c15-b440-b0fa2c3689c1",
        "trusted": false
      },
      "cell_type": "code",
      "source": "userlog_v2 = userlog.append(pd.read_csv('../input/user_logs_v2.csv'))",
      "execution_count": null,
      "outputs": []
    },
    {
      "metadata": {
        "collapsed": true,
        "_uuid": "d55ac0afea1c5edd745921d25ca7e44a701bd34f",
        "_cell_guid": "c2e88c79-fdc0-4047-8c52-a8ad681601af",
        "trusted": false
      },
      "cell_type": "code",
      "source": "userlog_v2.to_csv(\"user_logs_v2.csv\")",
      "execution_count": null,
      "outputs": []
    },
    {
      "metadata": {
        "collapsed": true,
        "_uuid": "81d36f1c3a388ba7a5584b30d925f09a52b3686a",
        "_cell_guid": "814b4964-9080-4981-9213-b1a8a89fa9b9",
        "trusted": false
      },
      "cell_type": "code",
      "source": "",
      "execution_count": null,
      "outputs": []
    }
  ],
  "metadata": {
    "language_info": {
      "file_extension": ".py",
      "codemirror_mode": {
        "name": "ipython",
        "version": 3
      },
      "name": "python",
      "version": "3.6.3",
      "nbconvert_exporter": "python",
      "mimetype": "text/x-python",
      "pygments_lexer": "ipython3"
    },
    "kernelspec": {
      "display_name": "Python 3",
      "language": "python",
      "name": "python3"
    }
  },
  "nbformat": 4,
  "nbformat_minor": 1
}