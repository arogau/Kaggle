{
  "cells": [
    {
      "metadata": {
        "_cell_guid": "992dfd65-f2ec-486c-8ec5-7df93a068664",
        "_uuid": "c41ed77d44f9c07f6f95a8fcfa1b6d2ace658b2c",
        "trusted": false,
        "collapsed": true
      },
      "cell_type": "code",
      "source": "# This Python 3 environment comes with many helpful analytics libraries installed\n# It is defined by the kaggle/python docker image: https://github.com/kaggle/docker-python\n# For example, here's several helpful packages to load in \n\nimport numpy as np # linear algebra\nimport pandas as pd # data processing, CSV file I/O (e.g. pd.read_csv)\nfrom scipy import stats\n# Input data files are available in the \"../input/\" directory.\n# For example, running this (by clicking run or pressing Shift+Enter) will list the files in the input directory\n\nfrom subprocess import check_output\nprint(check_output([\"ls\", \"../input/kkbox-churn-prediction-challenge\"]).decode(\"utf8\"))\n# This Python 3 environment comes with many helpful analytics libraries installed\n# It is defined by the kaggle/python docker image: https://github.com/kaggle/docker-python\n# For example, here's several helpful packages to load in \n\nimport numpy as np # linear algebra\nimport pandas as pd # data processing, CSV file I/O (e.g. pd.read_csv)\n\n# Input data files are available in the \"../input/\" directory.\n# For example, running this (by clicking run or pressing Shift+Enter) will list the files in the input directory\n\nfrom subprocess import check_output\nimport numpy as np # linear alegbra\nimport pandas as pd # data processing\nimport os # os commands\nfrom datetime import datetime as dt #work with date time format\n%matplotlib notebook \n# initiate matplotlib backend\nimport seaborn as sns # work over matplotlib with improved and more graphs\nimport matplotlib.pyplot as plt #some easy plotting\n\n",
      "execution_count": null,
      "outputs": []
    },
    {
      "metadata": {
        "_cell_guid": "c202a678-b1d4-4444-b313-3ce3594b5a51",
        "collapsed": true,
        "_uuid": "c53865c744f95bd7aaca04a2a5b0a6c9782d89d4",
        "trusted": false
      },
      "cell_type": "code",
      "source": "transactions = pd.read_csv('../input/transactions.csv', engine = 'c', sep=',')#reading the transaction file",
      "execution_count": null,
      "outputs": []
    },
    {
      "metadata": {
        "_cell_guid": "6dfae882-9843-4684-90d5-3dae3a9d9fba",
        "collapsed": true,
        "_uuid": "5e88e2a22692b4beb3f8cf1605a24f6774587f01",
        "trusted": false
      },
      "cell_type": "code",
      "source": "transactions_v2 =pd.read_csv('../input/transactions_v2.csv', engine = 'c', sep=',')",
      "execution_count": null,
      "outputs": []
    },
    {
      "metadata": {
        "_cell_guid": "f0c509de-543b-4b21-80c8-042e4851fedb",
        "collapsed": true,
        "_uuid": "c3034308f73022c7f0e10471bee30f00e1eb89ac",
        "trusted": false
      },
      "cell_type": "code",
      "source": "transactions.info()",
      "execution_count": null,
      "outputs": []
    },
    {
      "metadata": {
        "_cell_guid": "80bdf630-74c9-45b4-9f75-f598207cc1f8",
        "collapsed": true,
        "_uuid": "24588ae07d30f249e3ef8bbd7e0a2cad354582b6",
        "trusted": false
      },
      "cell_type": "code",
      "source": "transactions.describe()",
      "execution_count": null,
      "outputs": []
    },
    {
      "metadata": {
        "_cell_guid": "57156994-d74a-405f-889d-0d3332c9bcb8",
        "_uuid": "89b02545f0df9688966eb48243c14b0e0a330deb"
      },
      "cell_type": "markdown",
      "source": "** to reduce the size of transactions dataframe**"
    },
    {
      "metadata": {
        "_cell_guid": "db6dcf20-bbc9-41c6-b293-b06fb2396887",
        "collapsed": true,
        "_uuid": "e56d4992246465bb85c3bd4489948833ea20aa00",
        "trusted": false
      },
      "cell_type": "code",
      "source": "\nprint(\"payment_plan_days min: \",transactions['payment_plan_days'].min())\nprint(\"payment_plan_days max: \",transactions['payment_plan_days'].max())\n\nprint('payment_method_id min:', transactions['payment_method_id'].min())\nprint('payment_method_id max:', transactions['payment_method_id'].max())\n",
      "execution_count": null,
      "outputs": []
    },
    {
      "metadata": {
        "_cell_guid": "d67efbad-5db5-4048-b745-b2dc4cceb5dc",
        "collapsed": true,
        "_uuid": "19e54896bdf6ed40c77dbb662c5d8143d7c606f9",
        "trusted": false
      },
      "cell_type": "code",
      "source": "# h=change the type of these series\n\ntransactions['payment_method_id'] = transactions['payment_method_id'].astype('int8')\ntransactions['payment_plan_days'] = transactions['payment_plan_days'].astype('int16')\n\ntransactions_v2['payment_method_id'] = transactions_v2['payment_method_id'].astype('int8')\ntransactions_v2['payment_plan_days'] = transactions_v2['payment_plan_days'].astype('int16')",
      "execution_count": null,
      "outputs": []
    },
    {
      "metadata": {
        "_cell_guid": "73a8dfac-6d30-443a-8be6-1e4eb9e43d7f",
        "collapsed": true,
        "_uuid": "28800f1e04569fa1cacbe041adb917dc96d91cfd",
        "trusted": false
      },
      "cell_type": "code",
      "source": "print('plan list price varies from ', transactions['plan_list_price'].min(), 'to ',transactions['plan_list_price'].max() )\nprint('actual amount varies from ', transactions['actual_amount_paid'].min(),'to ', transactions['actual_amount_paid'].max() )",
      "execution_count": null,
      "outputs": []
    },
    {
      "metadata": {
        "_cell_guid": "4a8213ae-dfa3-4637-adaa-61b129a3d29e",
        "collapsed": true,
        "_uuid": "4112175a854ebf3660de3cbde8695cb410d94030",
        "trusted": false
      },
      "cell_type": "code",
      "source": "\ntransactions['plan_list_price'] = transactions['plan_list_price'].astype('int16')\ntransactions['actual_amount_paid'] = transactions['actual_amount_paid'].astype('int16')\ntransactions_v2['plan_list_price'] = transactions_v2['plan_list_price'].astype('int16')\ntransactions_v2['actual_amount_paid'] = transactions_v2['actual_amount_paid'].astype('int16')",
      "execution_count": null,
      "outputs": []
    },
    {
      "metadata": {
        "_cell_guid": "7e8be115-f1ac-4578-a88b-b0f7190c385b",
        "_uuid": "eb3635d153583c9c7bc445340b2a5e372523f121"
      },
      "cell_type": "markdown",
      "source": "** size of file has decreased by almost 33% **"
    },
    {
      "metadata": {
        "_cell_guid": "c638a90a-f422-4ef9-a596-2d7003bd4543",
        "collapsed": true,
        "_uuid": "7b856482c5decef187f0e4f7bf991778c66778d4",
        "trusted": false
      },
      "cell_type": "code",
      "source": "transactions.info()",
      "execution_count": null,
      "outputs": []
    },
    {
      "metadata": {
        "_cell_guid": "8d3384ca-1406-4366-9fe8-e588fa5e01bb",
        "collapsed": true,
        "_uuid": "3999b02e2840b612162848657caa5c59a078c0fe",
        "trusted": false
      },
      "cell_type": "code",
      "source": "\ntransactions['is_auto_renew'] = transactions['is_auto_renew'].astype('int8') # chainging the type to boolean\ntransactions['is_cancel'] = transactions['is_cancel'].astype('int8')#changing the type to boolean\n\ntransactions_v2['is_auto_renew'] = transactions_v2['is_auto_renew'].astype('int8') # chainging the type to boolean\ntransactions_v2['is_cancel'] = transactions_v2['is_cancel'].astype('int8')#changing the type to boolean",
      "execution_count": null,
      "outputs": []
    },
    {
      "metadata": {
        "_cell_guid": "8ca24ff3-a71c-432f-b20c-033b21b66911",
        "collapsed": true,
        "_uuid": "7fe2e77bbacba9cedaba3a9f1e1e6d259b4f9e23",
        "trusted": false
      },
      "cell_type": "code",
      "source": "sum(transactions.memory_usage()/1024**2) # memory usage ",
      "execution_count": null,
      "outputs": []
    },
    {
      "metadata": {
        "_cell_guid": "66632670-5d34-4705-bc76-0e1ed0d86bf0",
        "collapsed": true,
        "_uuid": "a6e7ced0c0fb4d0efe065278ca18fd71c8518c2d",
        "trusted": false
      },
      "cell_type": "code",
      "source": "\ntransactions['membership_expire_date'] = pd.to_datetime(transactions['membership_expire_date'].astype(str), infer_datetime_format = True, exact=False)\ntransactions_v2['membership_expire_date'] = pd.to_datetime(transactions_v2['membership_expire_date'].astype(str), infer_datetime_format = True, exact=False)\n# converting the series to string and then to datetime format for easy manipulation of dates\nsum(transactions.memory_usage()/1024**2) # this wouldn't change the size of df as memory occupied by object is similar to datetime",
      "execution_count": null,
      "outputs": []
    },
    {
      "metadata": {
        "_cell_guid": "3162f650-043a-4da2-a542-997b7559d78f",
        "collapsed": true,
        "_uuid": "2ffd3e1b9e5f588ba13739748a9ead2f4345e79b",
        "trusted": false
      },
      "cell_type": "code",
      "source": "\ntransactions['transaction_date'] = pd.to_datetime(transactions['transaction_date'].astype(str), infer_datetime_format = True, exact=False)\n\ntransactions_v2['transaction_date'] = pd.to_datetime(transactions_v2['transaction_date'].astype(str), infer_datetime_format = True, exact=False)",
      "execution_count": null,
      "outputs": []
    },
    {
      "metadata": {
        "_cell_guid": "6ca16009-a400-4bd1-aafd-06e4faec29fe",
        "_uuid": "b8e56edae280cad06f5c36e22f606a7f475b7e37"
      },
      "cell_type": "markdown",
      "source": "** repeating the same process on members file/df**"
    },
    {
      "metadata": {
        "_cell_guid": "921ba6d3-d65d-4364-a6e3-0ab49669e134",
        "collapsed": true,
        "_uuid": "6c0abd6580322cbecca38b3ad8d42faa1540aad8",
        "trusted": false
      },
      "cell_type": "code",
      "source": "members = pd.read_csv('../input/members_v3.csv')\n\n",
      "execution_count": null,
      "outputs": []
    },
    {
      "metadata": {
        "_cell_guid": "5decaaa9-777f-451f-9d53-682c6829bd08",
        "collapsed": true,
        "_uuid": "4676eb918e00ec0bf358e65dd0c01b22acc37783",
        "trusted": false
      },
      "cell_type": "code",
      "source": "members.info()",
      "execution_count": null,
      "outputs": []
    },
    {
      "metadata": {
        "_cell_guid": "2dd34052-6cb3-4b81-87f1-86678c92af4e",
        "collapsed": true,
        "_uuid": "b0160c34048e62381b5217b113f22fc875ad55ed",
        "trusted": false
      },
      "cell_type": "code",
      "source": "members.describe()",
      "execution_count": null,
      "outputs": []
    },
    {
      "metadata": {
        "_cell_guid": "2fa3d846-0a5b-4d49-a0eb-ff1844dd9f50",
        "collapsed": true,
        "_uuid": "c35ae39dc57167193b90754dabc14d54aa5d17b6",
        "trusted": false
      },
      "cell_type": "code",
      "source": "\nmembers['city']=members['city'].astype('int8');\nmembers['bd'] = members['bd'].astype('int16');\nmembers['bd']=members['bd'].astype('int8');\nmembers['registration_init_time'] = pd.to_datetime(members['registration_init_time'].astype(str), infer_datetime_format = True, exact=False)\n#members['expiration_date'] = pd.to_datetime(members['expiration_date'].astype(str), infer_datetime_format = True, exact=False)",
      "execution_count": null,
      "outputs": []
    },
    {
      "metadata": {
        "_cell_guid": "fdac1bc7-c92b-44df-a1d2-53adb070a017",
        "_uuid": "e031bbdecd32bc9719f627bf84eccbc15ae97c8b"
      },
      "cell_type": "markdown",
      "source": "** doing the same with train data**"
    },
    {
      "metadata": {
        "_cell_guid": "928b36ac-bdce-4281-a987-4f8b7b24cb3d",
        "collapsed": true,
        "_uuid": "2a518c3a9450b3e3ce88e9a96209fc9cdfcaff53",
        "trusted": false
      },
      "cell_type": "code",
      "source": "\ntrain = pd.read_csv('../input/train.csv')\ntrain_v2 = pd.read_csv('../input/train_v2.csv')\ntrain.head()\ntrain['is_churn'] = train['is_churn'].astype('int8');\ntrain_v2['is_churn'] = train_v2['is_churn'].astype('int8');",
      "execution_count": null,
      "outputs": []
    },
    {
      "metadata": {
        "_cell_guid": "5008ab3c-1a2a-4b72-a365-0093f3c5ed27",
        "collapsed": true,
        "_uuid": "1461b020f6b94faa2927dae91258fa0ab746cd5e",
        "trusted": false
      },
      "cell_type": "code",
      "source": "transactions['msno'].head(10)",
      "execution_count": null,
      "outputs": []
    },
    {
      "metadata": {
        "_cell_guid": "7d9f7bdd-0405-4f09-af59-14645dfe232c",
        "collapsed": true,
        "_uuid": "0a710eda79c8cf79108f3d0f90cd0d5e897518b0",
        "trusted": false
      },
      "cell_type": "code",
      "source": "train['msno'].nunique()#.append(train_v2)['msno'].nunique()",
      "execution_count": null,
      "outputs": []
    },
    {
      "metadata": {
        "_cell_guid": "9ac1d580-bf7d-43a1-b32c-f226d6bad9f2",
        "collapsed": true,
        "_uuid": "a819b894fc2e98c0572a84d5e8c2c3708cf9155b",
        "trusted": false
      },
      "cell_type": "code",
      "source": "transactions['msno'].nunique()",
      "execution_count": null,
      "outputs": []
    },
    {
      "metadata": {
        "_cell_guid": "a207329b-e379-40a5-8499-11cefccbd34a",
        "collapsed": true,
        "_uuid": "e3c71326abda081b6b8707527794f18f20efae7a",
        "trusted": false
      },
      "cell_type": "code",
      "source": "len(transactions_v2['msno'])#.nunique()",
      "execution_count": null,
      "outputs": []
    },
    {
      "metadata": {
        "_cell_guid": "457c3631-2236-4cac-a8e6-2cf3e36795a5",
        "collapsed": true,
        "_uuid": "5d7a7e4b16d9f3740e602f765cfb4f57f7ac5534",
        "trusted": false
      },
      "cell_type": "code",
      "source": "transactions[transactions['msno']=='uQxbyACsPOEkTIrv9jZgoGXelGBW81ZsSZKy9fhj5Z8='].sort_values('membership_expire_date')",
      "execution_count": null,
      "outputs": []
    },
    {
      "metadata": {
        "_cell_guid": "9e414366-d42a-4827-9c5b-8bf44f199372",
        "_uuid": "9fae3814ba776e2a5ee6357d74cc80d413dcb4bf"
      },
      "cell_type": "markdown",
      "source": "** now merging all the dataframe with inner joint as we would not want half information about users**"
    },
    {
      "metadata": {
        "_cell_guid": "d0bf3fe1-08ad-4339-8ac8-a1568a6dce9d",
        "collapsed": true,
        "_uuid": "54a7c0fb9ee1b6e46c2450e4b73f8b2512713e83",
        "trusted": false
      },
      "cell_type": "code",
      "source": "\nmembers_trans = members.merge(transactions, how='inner', on='msno')\ndata = members_trans.merge(train, how='inner', on='msno')\n# deleting the previously imported df as they occupy space in memory\ndel transactions\ndel train\ndel members_trans",
      "execution_count": null,
      "outputs": []
    },
    {
      "metadata": {
        "_cell_guid": "9b32f587-7feb-4cbc-a9f3-f1f4a7901b45",
        "collapsed": true,
        "_uuid": "3de865b24deb4a31dd1a680f4fdca58edbc1a8ab",
        "trusted": false
      },
      "cell_type": "code",
      "source": "members_trans = members.merge(transactions_v2, how='inner', on='msno')\ntest_data = members_trans.merge(train_v2, how='inner', on='msno')\n# deleting the previously imported df as they occupy space in memory\ndel transactions_v2\ndel members\ndel train_v2\ndel members_trans",
      "execution_count": null,
      "outputs": []
    },
    {
      "metadata": {
        "_cell_guid": "d610f3e8-2855-47bc-b977-ce988334934e",
        "collapsed": true,
        "_uuid": "fd053aff9672050a8e21bc295a54db1f7316e1d4",
        "trusted": false
      },
      "cell_type": "code",
      "source": "#total memory consumptions by all these data frame\nsum(data.memory_usage()/1024**2)",
      "execution_count": null,
      "outputs": []
    },
    {
      "metadata": {
        "_cell_guid": "2656f461-8917-4950-ab72-2ce4325c2002",
        "_uuid": "e44920e006ed654afb2ae2fdc9f464206e89fedc"
      },
      "cell_type": "markdown",
      "source": "Number of values in missing in data "
    },
    {
      "metadata": {
        "_cell_guid": "cfe04136-73c3-47ad-bfc6-d03014e72e21",
        "collapsed": true,
        "_uuid": "ac6ad32a19769c06f81e2818f8c298457396dd79",
        "trusted": false
      },
      "cell_type": "code",
      "source": "sum(data['gender'].isnull())/len(data)",
      "execution_count": null,
      "outputs": []
    },
    {
      "metadata": {
        "_cell_guid": "bcfe3d15-8a50-44e4-8ecc-0a0e52511843",
        "collapsed": true,
        "_uuid": "398d43c56de9cdafa692ec7c9ddd2a90736ff768",
        "trusted": false
      },
      "cell_type": "code",
      "source": "sum(test_data['gender'].isnull())/len(test_data)",
      "execution_count": null,
      "outputs": []
    },
    {
      "metadata": {
        "_cell_guid": "fefbafa2-6922-4d4c-9f8e-c0d3e2719877",
        "_uuid": "3462ee4d5a5fe659a42d09f6bc77e9c76258c903"
      },
      "cell_type": "markdown",
      "source": "~52% of gender data is missing or the users did not provide the data. This can be ascertained by seeing whether their is signinficant difference in churn of those whose gender is available vs those whose gender data is not available."
    },
    {
      "metadata": {
        "_cell_guid": "26bd67d5-b36a-421b-86f6-18896d09201f",
        "_uuid": "4f8759651c8b8baa3a75dac94d5bcc46ee2ea428"
      },
      "cell_type": "markdown",
      "source": "******EAD for train data and dummy variables**"
    },
    {
      "metadata": {
        "_cell_guid": "d658f580-46ad-478a-af9e-737fd079e5cf",
        "collapsed": true,
        "_uuid": "c13cddb889fd489d402bb93d7ed2584f3b4cad10",
        "trusted": false
      },
      "cell_type": "code",
      "source": "plt.figure()\ndata.groupby(['msno','gender'])['is_churn'].mean().groupby(level=1).mean().plot.bar();\n#taking the mean will give us a fraction of people churning as values are 0/1",
      "execution_count": null,
      "outputs": []
    },
    {
      "metadata": {
        "_cell_guid": "dda2a74a-8f80-4a71-80e8-821a690c65c4",
        "_uuid": "6403871dcc5b73eb851ad3f07d26f146ed30a69c"
      },
      "cell_type": "markdown",
      "source": "** There seems to be no correlation between geder and churn, but let's check for a correlation between people who provided gender and who did not**"
    },
    {
      "metadata": {
        "_cell_guid": "68226b2f-d8f1-4dce-b165-ed85462c8ab7",
        "collapsed": true,
        "_uuid": "77fc5359ff1d50dac4bafcaf8bf78965a418b858",
        "trusted": false
      },
      "cell_type": "code",
      "source": "\ndef assign_gender(item):\n    if (item == 'male')|(item == 'female'):\n        return 1\n    else:\n        return 0\ndata['gender'] = data['gender'].apply(assign_gender)",
      "execution_count": null,
      "outputs": []
    },
    {
      "metadata": {
        "_cell_guid": "eb767a15-bcc3-4a59-b7f4-db71f3993ea3",
        "collapsed": true,
        "_uuid": "998143a997fc24ff93c6ff2781f759593aa99c63",
        "trusted": false
      },
      "cell_type": "code",
      "source": "test_data['gender'] = test_data['gender'].apply(assign_gender)",
      "execution_count": null,
      "outputs": []
    },
    {
      "metadata": {
        "_cell_guid": "9a8efefa-f1d8-4027-97a7-cb71356671b3",
        "collapsed": true,
        "_uuid": "4090dae2458f426d1b4c4ec7369738983dfe9854",
        "trusted": false
      },
      "cell_type": "code",
      "source": "plt.figure()\ndata.groupby(['msno','gender'])['is_churn'].mean().groupby(level=1).mean().plot.bar();",
      "execution_count": null,
      "outputs": []
    },
    {
      "metadata": {
        "_cell_guid": "367d3ad3-9fe4-49a2-860f-6141d2ffb558",
        "_uuid": "bc81fa0576238f0c67c24a4458ba242528346fe3"
      },
      "cell_type": "markdown",
      "source": "** we found a new dummy variable**"
    },
    {
      "metadata": {
        "_cell_guid": "2442b8ac-3828-4d7a-961d-60f3cba317ce",
        "collapsed": true,
        "_uuid": "3eb6715422994e73db068e27f61303cb72eb1120",
        "trusted": false
      },
      "cell_type": "code",
      "source": "# plotting the correlation heatmap between the variables\n\ncorrel = data.corr()\n\nmask = np.zeros_like(correl, dtype=np.bool)\nmask[np.triu_indices_from(mask)] = True\n\n# Set up the matplotlib figure\nf, ax = plt.subplots(figsize=(11, 9))\n\n# Generate a custom diverging colormap\ncmap = sns.diverging_palette(220, 10, as_cmap=True)\n\n# Draw the heatmap with the mask and correct aspect ratio\nsns.heatmap(correl, mask=mask, cmap=cmap, \n            square=True, linewidths=.5, cbar_kws={\"shrink\": .5}, annot=True)\n\n\n\n\n",
      "execution_count": null,
      "outputs": []
    },
    {
      "metadata": {
        "_cell_guid": "814d89a1-6bc9-4075-ad14-f642da545a0c",
        "_uuid": "664b62101f7251e0a5d2d58a00a1f2d68ca6250e"
      },
      "cell_type": "markdown",
      "source": "but this doesn't tell us a lot about any correlation"
    },
    {
      "metadata": {
        "_cell_guid": "65c944b5-e394-450e-8210-5674ebe17c37",
        "_uuid": "9f77b4696ab590abf7cb6f1a900a8a33ab058a07"
      },
      "cell_type": "markdown",
      "source": "**Also, there is a difference in the plan listprice and actual amount paid. So surely there is a new variable in discount. **"
    },
    {
      "metadata": {
        "_cell_guid": "f4365e62-46c9-49de-9e07-5319f29dc38e",
        "collapsed": true,
        "_uuid": "7527acafc160a65425793031944bd29acdd2706a",
        "trusted": false
      },
      "cell_type": "code",
      "source": "data['discount'] = data['plan_list_price'] - data['actual_amount_paid']\ntest_data['discount'] = test_data['plan_list_price'] - test_data['actual_amount_paid']",
      "execution_count": null,
      "outputs": []
    },
    {
      "metadata": {
        "_cell_guid": "b4dec409-77a3-415a-8902-039b5fada886",
        "_uuid": "6c0e2b7f726c4db360a07243b7427849846ddf48"
      },
      "cell_type": "markdown",
      "source": "**See how many people churn from different cities**"
    },
    {
      "metadata": {
        "_cell_guid": "39fbf9cc-f99c-4475-b9b4-44895622e19c",
        "collapsed": true,
        "_uuid": "6249ed6c0b2492e50d400cac1e4e3d25778535ff",
        "trusted": false
      },
      "cell_type": "code",
      "source": "\n%matplotlib notebook\nplt.figure()\ndata.groupby(['msno','city'])['is_churn'].mean().groupby(level=1).mean().plot.bar();\nax= plt.gca();\nax.set_xticks(np.linspace(0,22,23));\n",
      "execution_count": null,
      "outputs": []
    },
    {
      "metadata": {
        "_cell_guid": "caec6d92-f6a9-4d89-a49c-1522bf41b242",
        "_uuid": "053d41d64eb26999f2082087bb1c149bcfc65621"
      },
      "cell_type": "markdown",
      "source": "**surely, there is a huge variation in churn proportion from different cities**"
    },
    {
      "metadata": {
        "_cell_guid": "fdcba41b-72e1-4179-825f-fd8d0aadd52a",
        "_uuid": "8ebd13263367d5e109668324aad4bdfc062f9758"
      },
      "cell_type": "markdown",
      "source": "Doing the same analysis for other variables such as registered_via, payment_method_id, is_churn"
    },
    {
      "metadata": {
        "_cell_guid": "923abcbc-def1-4611-99d5-285e43b7a807",
        "collapsed": true,
        "_uuid": "7c5ff6f9c2af682f32ce2dac09406639ae12163c",
        "trusted": false
      },
      "cell_type": "code",
      "source": "data['registered_via'].unique()",
      "execution_count": null,
      "outputs": []
    },
    {
      "metadata": {
        "_cell_guid": "3fcda9f0-5446-4096-aebd-87f3a3e94455",
        "collapsed": true,
        "_uuid": "1f17de977ea79b1fa3253fc700297656a66a1536",
        "trusted": false
      },
      "cell_type": "code",
      "source": "plt.figure()\ndata.groupby(['msno','registered_via'])['is_churn'].mean().groupby(level=1).mean().plot.bar();",
      "execution_count": null,
      "outputs": []
    },
    {
      "metadata": {
        "_cell_guid": "5b0d275a-25d1-46d7-b02c-3d5fb8f2ceca",
        "collapsed": true,
        "_uuid": "8948e29f524face6beb3db65984a61625221be49",
        "trusted": false
      },
      "cell_type": "code",
      "source": "plt.figure()\ndata.groupby(['msno','payment_method_id'])['is_churn'].mean().groupby(level=1).mean().plot.bar();",
      "execution_count": null,
      "outputs": []
    },
    {
      "metadata": {
        "_cell_guid": "8169c651-1dec-4d59-972e-2b8607ab3014",
        "collapsed": true,
        "_uuid": "e3661520d0272c7ad62977f8e4e06154462b8883",
        "trusted": false
      },
      "cell_type": "code",
      "source": "plt.figure()\ndata.groupby(['msno','is_cancel'])['is_churn'].mean().groupby(level=1).mean().plot.bar();",
      "execution_count": null,
      "outputs": []
    },
    {
      "metadata": {
        "_cell_guid": "043aab96-e34e-4d36-a6e4-97c5df8f8c02",
        "_uuid": "7bc51d8c02cd0fe3541607a67cfa64fcda00071b"
      },
      "cell_type": "markdown",
      "source": "** now plotting a pairplot for each variable**"
    },
    {
      "metadata": {
        "_cell_guid": "eece31d7-0dcb-4e82-a1a4-1b65b825fef2",
        "collapsed": true,
        "_uuid": "3135c454f30b30c6f86773e280d69eb24fb220a2",
        "trusted": false
      },
      "cell_type": "code",
      "source": "%matplotlib inline\nfig = plt.figure();\nsns.pairplot(data.head(), hue='is_churn', diag_kind='kde');\nfig.canvas.draw();",
      "execution_count": null,
      "outputs": []
    },
    {
      "metadata": {
        "_cell_guid": "49c9302b-93a1-4560-9a9d-ed0127eec6ed",
        "_uuid": "6e1b91ab2cdb1f7c9ac3b4d7769a073de44cb878"
      },
      "cell_type": "markdown",
      "source": "** now creating dummy variables for gender(whether gender priovided or not), registeres_via and city**"
    },
    {
      "metadata": {
        "_cell_guid": "df8c7e3c-c7e4-4c36-8945-d61a6418e3de",
        "collapsed": true,
        "_uuid": "5a31e0b0c90cb5ebefea09766f5d25363282a034",
        "trusted": false
      },
      "cell_type": "code",
      "source": "newdf= data.join(pd.get_dummies(data['gender'])) #creating a new columns for paymenth method id dummyvariable \n\ngender = {} \ngender.update({True:'gender_provided'})   # create a dictionary to automatic renaming of columns\ngender.update({False:'gender_not_provided'})\nnewdf = newdf.rename(columns=gender) #renaming the new columns\ndel newdf['gender']# deleting the extra columns",
      "execution_count": null,
      "outputs": []
    },
    {
      "metadata": {
        "_cell_guid": "37aa6768-1e42-4321-a081-3ca45c0157df",
        "collapsed": true,
        "_uuid": "95cd37f2fb4e5f4d8daa71e3b60d3c3597e3be76",
        "trusted": false
      },
      "cell_type": "code",
      "source": "test_newdf= test_data.join(pd.get_dummies(test_data['gender'])) #creating a new columns for paymenth method id dummyvariable \n\ngender = {} \ngender.update({True:'gender_provided'})   # create a dictionary to automatic renaming of columns\ngender.update({False:'gender_not_provided'})\ntest_newdf = test_newdf.rename(columns=gender) #renaming the new columns\ndel test_newdf['gender']# deleting the extra columns",
      "execution_count": null,
      "outputs": []
    },
    {
      "metadata": {
        "_cell_guid": "134154a0-cf6d-4871-b418-c781f225013f",
        "collapsed": true,
        "_uuid": "a1bb74116ca4047b50104dbc5e2ad6a106075f83",
        "trusted": false
      },
      "cell_type": "code",
      "source": "\nnewdf= newdf.join(pd.get_dummies(newdf['registered_via'])) #creating a new columns for paymenth method id dummyvariable \n\nregistered_via = {} \nfor i in data['registered_via'].unique(): \n    registered_via.update({i:'registered_via{}'.format(i)})   # create a dictionary to automatic renaming of columns\n    \n\nnewdf = newdf.rename(columns=registered_via) #renaming the new columns\ndel newdf['registered_via']# deleting the extra columns",
      "execution_count": null,
      "outputs": []
    },
    {
      "metadata": {
        "_cell_guid": "55930072-ea40-411e-a32e-2fca73f84e32",
        "collapsed": true,
        "_uuid": "ab90dcf6e21e680a6ff06e3d52e8a32b33f69971",
        "trusted": false
      },
      "cell_type": "code",
      "source": "\ntest_newdf= test_newdf.join(pd.get_dummies(test_newdf['registered_via'])) #creating a new columns for paymenth method id dummyvariable \n\nregistered_via = {} \nfor i in data['registered_via'].unique(): \n    registered_via.update({i:'registered_via{}'.format(i)})   # create a dictionary to automatic renaming of columns\n    \n\ntest_newdf = test_newdf.rename(columns=registered_via) #renaming the new columns\ndel test_newdf['registered_via']# deleting the extra columns",
      "execution_count": null,
      "outputs": []
    },
    {
      "metadata": {
        "_cell_guid": "0cf2a800-cd51-4938-87fe-9d329a9c6638",
        "collapsed": true,
        "_uuid": "c1938360605b8bebf09922317a4e5698257feee5",
        "trusted": false
      },
      "cell_type": "code",
      "source": "\nnewdf= newdf.join(pd.get_dummies(newdf['city'])) #creating a new columns for paymenth method id dummyvariable \n\ncity = {} \nfor i in data['city'].unique(): \n    city.update({i:'city{}'.format(i)})   # create a dictionary to automatic renaming of columns\n    \n\nnewdf = newdf.rename(columns=city) #renaming the new columns\ndel newdf['city']# deleting the extra columns\nnewdf.head(10)",
      "execution_count": null,
      "outputs": []
    },
    {
      "metadata": {
        "_cell_guid": "97455b48-92b8-4c66-acc0-2846404a4808",
        "collapsed": true,
        "_uuid": "8aa52424bb620e1b21b0430851e1f2dce8e29b94",
        "trusted": false
      },
      "cell_type": "code",
      "source": "\ntest_newdf= test_newdf.join(pd.get_dummies(test_newdf['city'])) #creating a new columns for paymenth method id dummyvariable \n\ncity = {} \nfor i in data['city'].unique(): \n    city.update({i:'city{}'.format(i)})   # create a dictionary to automatic renaming of columns\n    \n\ntest_newdf = test_newdf.rename(columns=city) #renaming the new columns\ndel test_newdf['city']# deleting the extra columns",
      "execution_count": null,
      "outputs": []
    },
    {
      "metadata": {
        "_cell_guid": "4449a554-72ff-40f1-9afe-48297cddd3dd",
        "collapsed": true,
        "_uuid": "1b808e6b9ad19e78ba606b092070e78e3dc0ef2b",
        "trusted": false
      },
      "cell_type": "code",
      "source": "\ndef reject_outliers(data, m=2):\n    return data[abs(data - np.mean(data)) < m * np.std(data)]",
      "execution_count": null,
      "outputs": []
    },
    {
      "metadata": {
        "_cell_guid": "afed6430-1b12-42b9-b46e-62a14fa2b50f",
        "collapsed": true,
        "_uuid": "56421bcde48e35e0241f66736594f8682c10391e",
        "trusted": false
      },
      "cell_type": "code",
      "source": "del test_data\ndel data",
      "execution_count": null,
      "outputs": []
    },
    {
      "metadata": {
        "_cell_guid": "58357143-a29d-4c43-abc0-158f87196253",
        "collapsed": true,
        "_uuid": "46b453c94538a2acc803aadcb60018310bc9bf99"
      },
      "cell_type": "markdown",
      "source": "** calculating the percentage of people aged negative or more than 100** \n\n"
    },
    {
      "metadata": {
        "_cell_guid": "0030093b-b28c-47d6-bc77-fc505b7a6eab",
        "collapsed": true,
        "_uuid": "0e4b03515c10057cdee1daa0378e26612bfc4773",
        "trusted": false
      },
      "cell_type": "code",
      "source": "bd_mean = np.mean(newdf['bd']);\ntest_bd_mean = np.mean(test_newdf['bd']);",
      "execution_count": null,
      "outputs": []
    },
    {
      "metadata": {
        "_cell_guid": "005b6b4b-446a-4080-a93e-6ba94fa1626d",
        "collapsed": true,
        "_uuid": "c98fa7410623e257a28112998013f423558b63ba",
        "trusted": false
      },
      "cell_type": "code",
      "source": "print(len(newdf[(newdf['bd']<0)|(newdf['bd']>100)])/len(newdf)*100,'%') ",
      "execution_count": null,
      "outputs": []
    },
    {
      "metadata": {
        "_cell_guid": "e6771de1-3612-4072-9749-093ffd886bf0",
        "collapsed": true,
        "scrolled": true,
        "_uuid": "49436bb6b9c41081e356807e64b9eb69b80be8e8",
        "trusted": false
      },
      "cell_type": "code",
      "source": "\nnewdf[(newdf['bd']<0)|(newdf['bd']>100)].loc[:,'bd'] = bd_mean # filling the odd aged people with value = mean of age of users\n\ntest_newdf[(test_newdf['bd']<0)|(test_newdf['bd']>100)].loc[:,'bd'] = test_bd_mean # filling the odd aged people with value = mean of age of users\n",
      "execution_count": null,
      "outputs": []
    },
    {
      "metadata": {
        "_cell_guid": "2d452991-1d0b-477a-a5da-5a6f826162ef",
        "collapsed": true,
        "_uuid": "df5746e79d6938b5139250f9282d1eec042f1a98",
        "trusted": false
      },
      "cell_type": "code",
      "source": "test_newdf['count_of_recharge'] = 1\nnewdf['count_of_recharge'] = 1",
      "execution_count": null,
      "outputs": []
    },
    {
      "metadata": {
        "_cell_guid": "7c960764-1efb-4189-b342-8b7d8d3fb13b",
        "collapsed": true,
        "_uuid": "cff5df2c7bca3ebfeb9b05ff2151c028f9f08a42",
        "trusted": false
      },
      "cell_type": "code",
      "source": "print(newdf.columns)",
      "execution_count": null,
      "outputs": []
    },
    {
      "metadata": {
        "_cell_guid": "0b4a8dd8-2d94-4e0e-93f5-160f10dccff3",
        "collapsed": true,
        "_uuid": "786bb9d4f652424aab8d887d78f80b69bfaf9bae",
        "trusted": false
      },
      "cell_type": "code",
      "source": "print(test_newdf.columns)",
      "execution_count": null,
      "outputs": []
    },
    {
      "metadata": {
        "_cell_guid": "5dca6c77-07c4-4df2-aee0-d1132eb30fe3",
        "collapsed": true,
        "_uuid": "70c8907d4748335ed98cc53ce87fcd56ce1eabf9",
        "trusted": false
      },
      "cell_type": "code",
      "source": "\ntest_newdf_grouped = test_newdf.groupby('msno').agg({ 'bd':np.mean, 'registration_init_time':min, \n       'payment_plan_days':np.mean, 'plan_list_price':np.mean,'count_of_recharge':'sum', 'actual_amount_paid':np.mean,\n       'is_auto_renew':np.mean, 'transaction_date':min, 'membership_expire_date':max,\n       'is_cancel':np.mean, 'is_churn':max, 'discount':'sum',  'gender_not_provided':np.mean, 'gender_provided':np.mean,\n       'registered_via3':np.mean, 'registered_via4':np.mean, 'registered_via7':np.mean,\n       'registered_via9':np.mean, 'registered_via13':np.mean, 'city1':np.mean, 'city3':np.mean, \n       'city4':np.mean,'city5':np.mean, 'city6':np.mean, 'city7':np.mean, 'city8':np.mean,\n       'city9':np.mean, 'city10':np.mean, 'city11':np.mean, 'city12':np.mean, 'city13':np.mean, \n       'city14':np.mean, 'city15':np.mean, 'city16':np.mean, 'city17':np.mean, 'city18':np.mean,\n       'city19':np.mean, 'city20':np.mean, 'city21':np.mean, 'city22':np.mean})\n",
      "execution_count": null,
      "outputs": []
    },
    {
      "metadata": {
        "_cell_guid": "ddd86c6d-c271-4590-a10c-6f808ff9b624",
        "collapsed": true,
        "_uuid": "564253730b6274dc0b8aba30ce65a4e875c62339",
        "trusted": false
      },
      "cell_type": "code",
      "source": "\nnewdf_grouped = newdf.groupby('msno').agg({ 'bd':np.mean, 'registration_init_time':min, \n       'payment_plan_days':np.mean, 'plan_list_price':np.mean,'count_of_recharge':'sum', 'actual_amount_paid':np.mean,\n       'is_auto_renew':np.mean, 'transaction_date':min, 'membership_expire_date':max,\n       'is_cancel':np.mean, 'is_churn':max, 'discount':'sum', 'gender_not_provided':np.mean, 'gender_provided':np.mean,\n       'registered_via3':np.mean, 'registered_via4':np.mean, 'registered_via7':np.mean,\n       'registered_via9':np.mean, 'registered_via13':np.mean, 'city1':np.mean, 'city3':np.mean, \n       'city4':np.mean,'city5':np.mean, 'city6':np.mean, 'city7':np.mean, 'city8':np.mean,\n       'city9':np.mean, 'city10':np.mean, 'city11':np.mean, 'city12':np.mean, 'city13':np.mean, \n       'city14':np.mean, 'city15':np.mean, 'city16':np.mean, 'city17':np.mean, 'city18':np.mean,\n       'city19':np.mean, 'city20':np.mean, 'city21':np.mean, 'city22':np.mean})\n",
      "execution_count": null,
      "outputs": []
    },
    {
      "metadata": {
        "_cell_guid": "123f651d-38de-400b-8d1b-cf6a5fd33a5b",
        "collapsed": true,
        "_uuid": "1c410cb091b041f6e028fd952cf4f3c1a0b4d1ca",
        "trusted": false
      },
      "cell_type": "code",
      "source": "newdf_grouped.head(10)",
      "execution_count": null,
      "outputs": []
    },
    {
      "metadata": {
        "_cell_guid": "61184554-b98c-4cee-adef-09c524e9b098",
        "collapsed": true,
        "_uuid": "4b3640ef043bed8fa8610fb416a137ddaeb11757",
        "trusted": false
      },
      "cell_type": "code",
      "source": "newdf_grouped.columns",
      "execution_count": null,
      "outputs": []
    },
    {
      "metadata": {
        "_cell_guid": "2f62bc55-71b6-4b6c-bb3c-9cc42c271a3e",
        "collapsed": true,
        "_uuid": "66bc10a969a303a0353373b054b7640befedf8b7",
        "trusted": false
      },
      "cell_type": "code",
      "source": "\nnewdf_grouped[newdf_grouped.columns[-28:]] = newdf_grouped[newdf_grouped.columns[-28:]].applymap(lambda x: 1 if x>0 else 0).apply(lambda x: x.astype('int8'))\ntest_newdf_grouped[newdf_grouped.columns[-28:]] = test_newdf_grouped[newdf_grouped.columns[-28:]].applymap(lambda x: 1 if x>0 else 0).apply(lambda x: x.astype('int8'))# converting 0/1 for city",
      "execution_count": null,
      "outputs": []
    },
    {
      "metadata": {
        "_cell_guid": "1b5e6ad6-0354-4d0e-b1ab-32917e7fc487",
        "collapsed": true,
        "_uuid": "43dd51be7297bd13d9cb21f87b7e07607ef51463"
      },
      "cell_type": "markdown",
      "source": "newdf_grouped[newdf_grouped.columns[11]].describe()"
    },
    {
      "metadata": {
        "_cell_guid": "a59a1ebb-e26e-4a0f-a10d-2f2f84097bf1",
        "collapsed": true,
        "_uuid": "0c606d0f8864e553848b1a8200dd8fad3bb577e9",
        "trusted": false
      },
      "cell_type": "code",
      "source": "\nnewdf_grouped['discount'] = newdf_grouped['discount'].astype('int16')",
      "execution_count": null,
      "outputs": []
    },
    {
      "metadata": {
        "_cell_guid": "058807d6-8a58-4e64-865d-8fec71a9148c",
        "collapsed": true,
        "_uuid": "078ee0e38337c3da4ffbcd05142c8ee8d31e39a5",
        "trusted": false
      },
      "cell_type": "code",
      "source": "newdf_grouped[newdf_grouped.columns[2:5]].describe()\n",
      "execution_count": null,
      "outputs": []
    },
    {
      "metadata": {
        "_cell_guid": "66be7175-df52-4711-a66f-f65d6ee53e93",
        "collapsed": true,
        "_uuid": "681276e2235137ddacfd1e23395fea53d1525ed5",
        "trusted": false
      },
      "cell_type": "code",
      "source": "\nnewdf_grouped[newdf_grouped.columns[2:5]] = newdf_grouped[newdf_grouped.columns[2:5]].apply(lambda x: round(x).astype('int16'))\ntest_newdf_grouped[newdf_grouped.columns[2:5]] = test_newdf_grouped[newdf_grouped.columns[2:5]].apply(lambda x: round(x).astype('int16'))",
      "execution_count": null,
      "outputs": []
    },
    {
      "metadata": {
        "_cell_guid": "acd68c9a-251f-4391-9a21-84ce293acdb7",
        "collapsed": true,
        "_uuid": "5366af324533944f7d493cb8d81179fa7307e13e",
        "trusted": false
      },
      "cell_type": "code",
      "source": "#churn is 6.5% which is not as bad.\nnp.divide(np.sum(newdf_grouped['is_churn']),newdf_grouped.index.nunique())*100",
      "execution_count": null,
      "outputs": []
    },
    {
      "metadata": {
        "_cell_guid": "c4d8edb4-ae1b-41c4-8e27-44e6e5d0341e",
        "collapsed": true,
        "_uuid": "2152a512939915e866d2eb35f4f55d6b4756a97d",
        "trusted": false
      },
      "cell_type": "code",
      "source": "np.divide(np.sum(test_newdf_grouped['is_churn']),test_newdf_grouped.index.nunique())*100",
      "execution_count": null,
      "outputs": []
    },
    {
      "metadata": {
        "_cell_guid": "2a6a93ee-5a1d-4eed-98fc-0d8f5426b45b",
        "collapsed": true,
        "_uuid": "d542c86c9f101afb49c8ec6e7f65c08f8aceb27b",
        "trusted": false
      },
      "cell_type": "code",
      "source": "newdf_grouped.head(10)\n",
      "execution_count": null,
      "outputs": []
    },
    {
      "metadata": {
        "_cell_guid": "9abbbd13-50ee-4a22-ad98-25cccb820dfc",
        "collapsed": true,
        "_uuid": "19e4c37effb98ea74479b5e994b71fd929f71ba5",
        "trusted": false
      },
      "cell_type": "code",
      "source": "\nnewdf_grouped['days_to_buy_membership'] = newdf_grouped['transaction_date'] - newdf_grouped['registration_init_time']\nnewdf_grouped['tenure_membership'] = newdf_grouped['membership_expire_date']-newdf_grouped['transaction_date']\nnewdf_grouped['days_to_buy_membership'] = (newdf_grouped['days_to_buy_membership']/ np.timedelta64(1, 'D')).astype(int)\nnewdf_grouped['tenure_membership'] = (newdf_grouped['tenure_membership']/ np.timedelta64(1, 'D')).astype(int)",
      "execution_count": null,
      "outputs": []
    },
    {
      "metadata": {
        "_cell_guid": "cd369462-30bd-4d46-9072-4304148d2704",
        "collapsed": true,
        "_uuid": "00408f4ca4f9e2c244a3c2dc317866ed025e55a6",
        "trusted": false
      },
      "cell_type": "code",
      "source": "\ntest_newdf_grouped['days_to_buy_membership'] = test_newdf_grouped['transaction_date'] - test_newdf_grouped['registration_init_time']\ntest_newdf_grouped['tenure_membership'] = test_newdf_grouped['membership_expire_date']-test_newdf_grouped['transaction_date']\ntest_newdf_grouped['days_to_buy_membership'] = (test_newdf_grouped['days_to_buy_membership']/ np.timedelta64(1, 'D')).astype(int)\ntest_newdf_grouped['tenure_membership'] = (test_newdf_grouped['tenure_membership']/ np.timedelta64(1, 'D')).astype(int)",
      "execution_count": null,
      "outputs": []
    },
    {
      "metadata": {
        "_cell_guid": "560acc0a-1ec0-4712-9385-3646bde8fd77",
        "collapsed": true,
        "_uuid": "0dbdf0b9ec632adb2599453dc41f623c3411e992",
        "trusted": false
      },
      "cell_type": "code",
      "source": "newdf_grouped.columns",
      "execution_count": null,
      "outputs": []
    },
    {
      "metadata": {
        "_cell_guid": "e7aed230-e64b-43b7-ad62-1ca1621af565",
        "collapsed": true,
        "_uuid": "ba7841d6c0162f30e5df0220f2b0ef6fec896e5d",
        "trusted": false
      },
      "cell_type": "code",
      "source": "",
      "execution_count": null,
      "outputs": []
    },
    {
      "metadata": {
        "_cell_guid": "021824d4-8b57-45cc-a4df-dfb5b919dc2c",
        "collapsed": true,
        "_uuid": "c5514b764ba12a19ea327cc9f8f2dc8681cf0937",
        "trusted": false
      },
      "cell_type": "code",
      "source": "from sklearn.preprocessing import MinMaxScaler\nscale = MinMaxScaler();\nscale.fit(X_train);\nX_train_train = scale.transform(X_train);\nX_test_trans = scale.transform(X_test);",
      "execution_count": null,
      "outputs": []
    },
    {
      "metadata": {
        "_cell_guid": "155d0064-3f17-4b4d-b040-8c46a08e1a4d",
        "collapsed": true,
        "_uuid": "a70641efae143602e1ea606afc90d5bd7bf564dc"
      },
      "cell_type": "markdown",
      "source": "'''\n# h=change the type of these series\ntransactions = pd.read_csv('../input/transactions.csv', engine = 'c', sep=',')#reading the transaction file\ntransactions['payment_method_id'] = transactions['payment_method_id'].astype('int8')\ntransactions['payment_plan_days'] = transactions['payment_plan_days'].astype('int16')\ntransactions['plan_list_price'] = transactions['plan_list_price'].astype('int16')\ntransactions['actual_amount_paid'] = transactions['actual_amount_paid'].astype('int16')\ntransactions['is_auto_renew'] = transactions['is_auto_renew'].astype('int8') # chainging the type to boolean\ntransactions['is_cancel'] = transactions['is_cancel'].astype('int8')#changing the type to boolean\ntransactions['membership_expire_date'] = pd.to_datetime(transactions['membership_expire_date'].astype(str), infer_datetime_format = True, exact=False)\n# converting the series to string and then to datetime format for easy manipulation of dates\nsum(transactions.memory_usage()/1024**2) # this wouldn't change the size of df as memory occupied by object is similar to datetime\ntransactions['transaction_date'] = pd.to_datetime(transactions['transaction_date'].astype(str), infer_datetime_format = True, exact=False)\nmembers = pd.read_csv('../input/members_v3.csv')\nmembers['city']=members['city'].astype('int8');\nmembers['bd'] = members['bd'].astype('int16');\nmembers['bd']=members['bd'].astype('int8');\nmembers['registration_init_time'] = pd.to_datetime(members['registration_init_time'].astype(str), infer_datetime_format = True, exact=False)\n#members['expiration_date'] = pd.to_datetime(members['expiration_date'].astype(str), infer_datetime_format = True, exact=False)\ntrain = pd.read_csv('../input/train.csv')\ntrain.head()\ntrain['is_churn'] = train['is_churn'].astype('int8');\nmembers_trans = members.merge(transactions, how='inner', on='msno')\ndata = members_trans.merge(train, how='inner', on='msno')\n# deleting the previously imported df as they occupy space in memory\ndel transactions\ndel members\ndel train\ndel members_trans\ndef assign_gender(item):\n    if (item == 'male')|(item == 'female'):\n        return 1\n    else:\n        return 0\ndata['gender'] = data['gender'].apply(assign_gender)\ndata['discount'] = data['plan_list_price'] - data['actual_amount_paid']\nnewdf= data.join(pd.get_dummies(data['payment_method_id'])) #creating a new columns for paymenth method id dummyvariable \n\npayment_method_id = {} \nfor i in data['payment_method_id'].unique():\n    payment_method_id.update({i:'payment_method_id{}'.format(i)})   # create a dictionary to automatic renaming of columns\n\nnewdf = newdf.rename(columns=payment_method_id) #renaming the new columns\ndel newdf['payment_method_id']# deleting the extra columns\nnewdf.head()\nnewdf= newdf.join(pd.get_dummies(newdf['gender'])) #creating a new columns for paymenth method id dummyvariable \n\ngender = {} \ngender.update({True:'gender_provided'})   # create a dictionary to automatic renaming of columns\ngender.update({False:'gender_not_provided'})\nnewdf = newdf.rename(columns=gender) #renaming the new columns\ndel newdf['gender']# deleting the extra columns\nnewdf.columns\nnewdf= newdf.join(pd.get_dummies(newdf['registered_via'])) #creating a new columns for paymenth method id dummyvariable \n\nregistered_via = {} \nfor i in data['registered_via'].unique(): \n    registered_via.update({i:'registered_via{}'.format(i)})   # create a dictionary to automatic renaming of columns\n    \n\nnewdf = newdf.rename(columns=registered_via) #renaming the new columns\ndel newdf['registered_via']# deleting the extra columns\nnewdf.columns\nnewdf= newdf.join(pd.get_dummies(newdf['city'])) #creating a new columns for paymenth method id dummyvariable \n\ncity = {} \nfor i in data['city'].unique(): \n    city.update({i:'city{}'.format(i)})   # create a dictionary to automatic renaming of columns\n    \n\nnewdf = newdf.rename(columns=city) #renaming the new columns\ndel newdf['city']# deleting the extra columns\nnewdf.head(10)\ndef reject_outliers(data, m=2):\n    return data[abs(data - np.mean(data)) < m * np.std(data)]\nbd_mean = np.mean(newdf['bd'])\nnewdf[(newdf['bd']<0)|(newdf['bd']>100)].loc[:,'bd'] = bd_mean # filling the odd aged people with value = mean of age of users\n\nnewdf['count_of_recharge'] = 1\nnewdf_grouped = newdf.groupby('msno').agg({ 'bd':np.mean, 'registration_init_time':min, \n       'payment_plan_days':np.mean, 'plan_list_price':np.mean,'count_of_recharge':'sum', 'actual_amount_paid':np.mean,\n       'is_auto_renew':np.mean, 'transaction_date':min, 'membership_expire_date':max,\n       'is_cancel':np.mean, 'is_churn':min, 'discount':'sum', 'payment_method_id2':np.mean,\n       'payment_method_id3':sum, 'payment_method_id4':np.sum, 'payment_method_id5':np.sum,\n       'payment_method_id6':np.sum, 'payment_method_id8':np.sum, 'payment_method_id10':np.sum,\n       'payment_method_id11':np.sum, 'payment_method_id12':np.sum, 'payment_method_id13':np.sum,\n       'payment_method_id14':np.sum, 'payment_method_id15':np.sum, 'payment_method_id16':np.sum,\n       'payment_method_id17':np.sum, 'payment_method_id18':np.sum, 'payment_method_id19':np.sum,\n       'payment_method_id20':np.sum, 'payment_method_id21':np.sum, 'payment_method_id22':np.sum,\n       'payment_method_id23':np.sum, 'payment_method_id24':np.sum, 'payment_method_id25':np.sum,\n       'payment_method_id26':np.sum, 'payment_method_id27':np.sum, 'payment_method_id28':np.sum,\n       'payment_method_id29':np.sum, 'payment_method_id30':np.sum, 'payment_method_id31':np.sum,\n       'payment_method_id32':np.sum, 'payment_method_id33':np.sum, 'payment_method_id34':np.sum,\n       'payment_method_id35':np.sum, 'payment_method_id36':np.sum, 'payment_method_id37':np.sum,\n       'payment_method_id38':np.sum, 'payment_method_id39':np.sum, 'payment_method_id40':np.sum,\n       'payment_method_id41':np.sum, 'gender_not_provided':np.mean, 'gender_provided':np.mean,\n       'registered_via3':np.mean, 'registered_via4':np.mean, 'registered_via7':np.mean,\n       'registered_via9':np.mean, 'registered_via13':np.mean, 'city1':np.mean, 'city3':np.mean, \n       'city4':np.mean,'city5':np.mean, 'city6':np.mean, 'city7':np.mean, 'city8':np.mean,\n       'city9':np.mean, 'city10':np.mean, 'city11':np.mean, 'city12':np.mean, 'city13':np.mean, \n       'city14':np.mean, 'city15':np.mean, 'city16':np.mean, 'city17':np.mean, 'city18':np.mean,\n       'city19':np.mean, 'city20':np.mean, 'city21':np.mean, 'city22':np.mean})\n\nnewdf_grouped[newdf_grouped.columns[-28:]] = newdf_grouped[newdf_grouped.columns[-28:]].applymap(lambda x: 1 if x>0 else 0).apply(lambda x: x.astype('int8'))  # converting 0/1 for city\nnewdf_grouped[newdf_grouped.columns[12:-28]] = newdf_grouped[newdf_grouped.columns[12:-28]].apply(lambda x:x.astype('int8'))\n\nnewdf_grouped['discount'] = newdf_grouped['discount'].astype('int16')\nnewdf_grouped[newdf_grouped.columns[2:5]] = newdf_grouped[newdf_grouped.columns[2:5]].apply(lambda x: round(x).astype('int16'))\nnewdf_grouped['days_to_buy_membership'] = newdf_grouped['transaction_date'] - newdf_grouped['registration_init_time']\nnewdf_grouped['days_to_buy_membership'] = (newdf_grouped['days_to_buy_membership']/ np.timedelta64(1, 'D')).astype(int)'''"
    },
    {
      "metadata": {
        "_cell_guid": "6b4ce8d2-d120-4cdf-9fff-50285e056f0d",
        "collapsed": true,
        "_uuid": "769594bcfaed0c599479d2540d4040e14707a3b6",
        "trusted": false
      },
      "cell_type": "code",
      "source": "newdf_grouped.hist('actual_amount_paid',bins= 100);",
      "execution_count": null,
      "outputs": []
    },
    {
      "metadata": {
        "_cell_guid": "3f6f00c2-4e3e-45a7-99cc-94906aaa54db",
        "collapsed": true,
        "_uuid": "65eb95a536c131fba71c8dd1d69c0c1177711777",
        "trusted": false
      },
      "cell_type": "code",
      "source": "#from sklearn.naive_bayes import GaussianNB, BernoulliNB, MultinomialNB\n#from sklearn.model_selection import train_test_split\n#from sklearn.svm import SVC\nfrom sklearn.linear_model import LogisticRegression\n#from sklearn.neural_network import MLPClassifier",
      "execution_count": null,
      "outputs": []
    },
    {
      "metadata": {
        "_cell_guid": "71b0c8c6-60ec-4491-a643-67bf687caf7b",
        "collapsed": true,
        "_uuid": "180d8a14f4e257c8b2ae76f73ea7554498afd622",
        "trusted": false
      },
      "cell_type": "code",
      "source": "def evaluation_plots(est, X_train=X_train, y_train=y_train, X_test=X_test, y_test=y_test):\n    from sklearn import metrics\n    from sklearn.model_selection import learning_curve\n    #model: estimator function\n    y_pred=est.predict(X_test);\n    print('Model R2 on train data is: ', est.score(X_train, y_train));\n    print('Model R2 on test data is: ', est.score(X_test, y_test));\n    print('\\n\\nClassification report: \\n', metrics.classification_report(y_test, y_pred));\n    plt.figure();\n    \n    sns.heatmap(metrics.confusion_matrix(y_test, y_pred), \n            cmap='viridis',annot=True, annot_kws={'fontsize':13},\n            cbar=False, xticklabels=['Predicted Negative','Predicted Positive '], yticklabels=['Actual Negative','Actual Positive']);\n    plt.title(\"Confusion Matrix\", fontsize=20);\n    \n   # train_size, train_score, CV_score = learning_curve(est, X_train, y_train, train_sizes=np.linspace(0.1,1, 5));\n    #plt.figure();\n    #plt.plot(train_size, np.mean(train_score, axis=1), 'o-', color='b', label='training score');\n    #plt.plot(train_size, np.mean(CV_score, axis=1), 'o-', color='r', label='CV score');\n    #plt.xlabel(\"Training examples\");\n   # plt.ylabel(\"Score\");\n   # plt.fill_between(train_size, np.mean(train_score, axis=1) - np.std(train_score, axis=1),\n                   #  np.mean(train_score, axis=1) + np.std(train_score, axis=1), alpha=0.1,\n                  #   color=\"b\");\n   # plt.fill_between(train_size, np.mean(CV_score, axis=1) - np.std(CV_score, axis=1),\n                 #    np.mean(CV_score, axis=1) + np.std(CV_score, axis=1), alpha=0.1,\n                 #    color=\"r\");\n    #plt.title(\"Learning Curve\", fontsize=20);\n    #plt.legend();\n   # plt.show();\n    \n    plt.figure();\n    fpr, tpr, _ = metrics.roc_curve(y_test, y_pred);\n    auc = metrics.auc(fpr, tpr);\n    plt.plot(fpr, tpr, 'g-', lw=2);\n    plt.plot([0,1],[0,1], 'b--', lw=3);\n    #plt.gca().ylabel(\"True Positive rate\");\n    #plt.gca().xlabel(\"False Positive rate\");\n    plt.gca().text(.6,.05,\"Area under the curve {}\".format(np.round(auc, 2)));",
      "execution_count": null,
      "outputs": []
    },
    {
      "metadata": {
        "_cell_guid": "46b9df93-ec30-4476-b11f-1681fcbb706c",
        "collapsed": true,
        "_uuid": "0d2187dfcb165e0bf3be2610da98386a2b1af8a4",
        "trusted": false
      },
      "cell_type": "code",
      "source": "Logit = LogisticRegression()\nfrom sklearn.model_selection import GridSearchCV\nparam_grid = {'C':[0.01,.1,1,10,100], 'penalty':['l1','l2']}\ngscv = GridSearchCV(Logit, param_grid)\ngscv.fit(X_train, y_train);\n",
      "execution_count": null,
      "outputs": []
    },
    {
      "metadata": {
        "_cell_guid": "8b69687c-ca08-4a92-a5a0-834b15f1fdcb",
        "collapsed": true,
        "_uuid": "6c4e7bacbc2012840f1a36a8524d7cb82b617853",
        "trusted": false
      },
      "cell_type": "code",
      "source": "evaluation_plots(gscv, X_train=X_train, y_train=y_train, X_test=X_test, y_test=y_test);\n\n",
      "execution_count": null,
      "outputs": []
    },
    {
      "metadata": {
        "_cell_guid": "ec32550a-1403-44a4-817e-e59fdccc7978",
        "collapsed": true,
        "_uuid": "d7342579051de70eee5391e1746a17d880dcebb5",
        "trusted": false
      },
      "cell_type": "code",
      "source": "train = newdf_grouped[newdf_grouped['membership_expire_date']<'2017-04-01']\n#test = newdf_grouped[(newdf_grouped['membership_expire_date']>='2017-03-01')&(newdf_grouped['membership_expire_date']<'2017-04-01')]\n",
      "execution_count": null,
      "outputs": []
    },
    {
      "metadata": {
        "_cell_guid": "144aa601-c623-480f-80ef-b90b0b372d4a",
        "collapsed": true,
        "_uuid": "eb0887b1320867672d521a6d3193b4ddbbcb199e",
        "trusted": false
      },
      "cell_type": "code",
      "source": "predictgscv.predict(X_test)",
      "execution_count": null,
      "outputs": []
    },
    {
      "metadata": {
        "_cell_guid": "b64f44ca-522c-44ec-b568-786d6a7f284c",
        "collapsed": true,
        "_uuid": "9e22673ab8def47e88ef6ea03389da2d1f22d222",
        "trusted": false
      },
      "cell_type": "code",
      "source": "print(\"Churn rate in february: \", sum(train['is_churn'])/len(train['is_churn']))\n#print(\"Chaurn rate in march: \",sum(test['is_churn'])/len(test['is_churn']))",
      "execution_count": null,
      "outputs": []
    },
    {
      "metadata": {
        "_cell_guid": "1ef06d6b-59f4-4810-a511-b3fd0fb22ce9",
        "collapsed": true,
        "_uuid": "4285df5ebed9eba8e0b6b33835db9f12da33ffcc",
        "trusted": false
      },
      "cell_type": "code",
      "source": "",
      "execution_count": null,
      "outputs": []
    },
    {
      "metadata": {
        "_cell_guid": "eec844d3-4fd9-497b-8e3c-9a08dc01fbe8",
        "collapsed": true,
        "_uuid": "83581db81bc310555eb30af94800bc6f412392ee",
        "trusted": false
      },
      "cell_type": "code",
      "source": "from sklearn.preprocessing import normalize",
      "execution_count": null,
      "outputs": []
    },
    {
      "metadata": {
        "_cell_guid": "6d36efbd-8582-4499-b82e-0494701ae7ed",
        "collapsed": true,
        "_uuid": "6dc2b9c9515367d21c9bb198f34c6a42e1880192",
        "trusted": false
      },
      "cell_type": "code",
      "source": "X_train = train[train.columns[[0,2,4,5,6,9,11,12,13,14,15,16,17,18,19,20,21,22,23,24,25,26,27,28,29,30,31,32,33,34,35,36,37,38,39,40,\n              41,42,43,44,45,46,47,48,49,50,51,52,53,54,55,56,57,58,59,60,61,62,63,64,65,66,67,68,69,70,71,72,73,74,75,76,77,78]]]\ny_train = train['is_churn']",
      "execution_count": null,
      "outputs": []
    },
    {
      "metadata": {
        "_cell_guid": "322ff10c-17c4-4937-ad6c-e2cb7bd414f2",
        "collapsed": true,
        "_uuid": "841f791006e4c0ace729b00be89aa90259ec62df",
        "trusted": false
      },
      "cell_type": "code",
      "source": "X_train.head()",
      "execution_count": null,
      "outputs": []
    },
    {
      "metadata": {
        "_cell_guid": "092bb5c2-fe0d-4dae-81e9-5ce3c646869e",
        "collapsed": true,
        "_uuid": "d6a6d30e9eb81d2b48f8693d8211b2dd34fbe448",
        "trusted": false
      },
      "cell_type": "code",
      "source": "bern_X = X_train[[ 'is_auto_renew', 'city1', 'city3', 'city4',\n       'city5', 'city6', 'city7', 'city8', 'city9', 'city10', 'city11',\n       'city12', 'city13', 'city14', 'city15', 'city16', 'city17', 'city18',\n       'city19', 'city20', 'city21', 'city22',   'gender_not_provided', 'is_cancel', 'registered_via3', 'registered_via4', 'registered_via7',\n       'registered_via9', 'registered_via13']]",
      "execution_count": null,
      "outputs": []
    },
    {
      "metadata": {
        "_cell_guid": "299ea3fa-2c5d-4b1e-a2e8-0a935c269bcf",
        "collapsed": true,
        "_uuid": "814d5a617446d04172f15f6f884f608edb2531e6",
        "trusted": false
      },
      "cell_type": "code",
      "source": "mult_X = X_train[['count_of_recharge','payment_method_id2',\n       'payment_method_id3', 'payment_method_id4', 'payment_method_id5',\n       'payment_method_id6', 'payment_method_id8', 'payment_method_id10',\n       'payment_method_id11', 'payment_method_id12', 'payment_method_id13',\n       'payment_method_id14', 'payment_method_id15', 'payment_method_id16',\n       'payment_method_id17', 'payment_method_id18', 'payment_method_id19',\n       'payment_method_id20', 'payment_method_id21', 'payment_method_id22',\n       'payment_method_id23', 'payment_method_id24', 'payment_method_id25',\n       'payment_method_id26', 'payment_method_id27', 'payment_method_id28',\n       'payment_method_id29', 'payment_method_id30', 'payment_method_id31',\n       'payment_method_id32', 'payment_method_id33', 'payment_method_id34',\n       'payment_method_id35', 'payment_method_id36', 'payment_method_id37',\n       'payment_method_id38', 'payment_method_id39', 'payment_method_id40',\n       'payment_method_id41']]\n",
      "execution_count": null,
      "outputs": []
    },
    {
      "metadata": {
        "_cell_guid": "4879ff52-09f7-4efa-a114-8ae4c969d46d",
        "collapsed": true,
        "_uuid": "79a3b4e6fd6b213a04a99bb4ebb353c631e03d10",
        "trusted": false
      },
      "cell_type": "code",
      "source": "gaus_X = normalize(X_train[['bd', 'payment_plan_days',  'actual_amount_paid',\n        'discount', 'days_to_buy_membership']])",
      "execution_count": null,
      "outputs": []
    },
    {
      "metadata": {
        "_cell_guid": "0c8b1ba7-2fc2-443c-8280-c39c1ecf89b8",
        "collapsed": true,
        "_uuid": "7b2b720894a5f8af40dbf1613aab5139a3634ba7",
        "trusted": false
      },
      "cell_type": "code",
      "source": "",
      "execution_count": null,
      "outputs": []
    },
    {
      "metadata": {
        "_cell_guid": "e3fee947-8e0f-4db8-bbec-973f9c301aad",
        "collapsed": true,
        "_uuid": "9468a98a0bcc70ca73c9acbbc24171dda0466794",
        "trusted": false
      },
      "cell_type": "code",
      "source": "gaus_X_test = normalize(test[['bd', 'payment_plan_days',  'actual_amount_paid',\n        'discount', 'days_to_buy_membership']])\nmult_X_test = test[['count_of_recharge','payment_method_id2',\n       'payment_method_id3', 'payment_method_id4', 'payment_method_id5',\n       'payment_method_id6', 'payment_method_id8', 'payment_method_id10',\n       'payment_method_id11', 'payment_method_id12', 'payment_method_id13',\n       'payment_method_id14', 'payment_method_id15', 'payment_method_id16',\n       'payment_method_id17', 'payment_method_id18', 'payment_method_id19',\n       'payment_method_id20', 'payment_method_id21', 'payment_method_id22',\n       'payment_method_id23', 'payment_method_id24', 'payment_method_id25',\n       'payment_method_id26', 'payment_method_id27', 'payment_method_id28',\n       'payment_method_id29', 'payment_method_id30', 'payment_method_id31',\n       'payment_method_id32', 'payment_method_id33', 'payment_method_id34',\n       'payment_method_id35', 'payment_method_id36', 'payment_method_id37',\n       'payment_method_id38', 'payment_method_id39', 'payment_method_id40',\n       'payment_method_id41']]\nbern_X_test = test[[ 'is_auto_renew', 'city1', 'city3', 'city4',\n       'city5', 'city6', 'city7', 'city8', 'city9', 'city10', 'city11',\n       'city12', 'city13', 'city14', 'city15', 'city16', 'city17', 'city18',\n       'city19', 'city20', 'city21', 'city22',   'gender_not_provided', 'is_cancel', 'registered_via3', 'registered_via4', 'registered_via7',\n       'registered_via9', 'registered_via13']]",
      "execution_count": null,
      "outputs": []
    },
    {
      "metadata": {
        "_cell_guid": "db5b17f7-0d60-42c5-991c-7e35075c8dc3",
        "collapsed": true,
        "_uuid": "16b42671846e3496ec2568867c4cf0ee3b63dfc3",
        "trusted": false
      },
      "cell_type": "code",
      "source": "",
      "execution_count": null,
      "outputs": []
    },
    {
      "metadata": {
        "_cell_guid": "8a6c745a-d746-48f1-9bf7-88af4a0f840c",
        "_uuid": "92b49be2e50a056182e4856f126ba687517b8c99"
      },
      "cell_type": "raw",
      "source": ""
    },
    {
      "metadata": {
        "_cell_guid": "4ea21652-299e-4d29-8e13-b97457fe1c79",
        "collapsed": true,
        "_uuid": "a3b549f5d902876cc2187a8623277ab3d7b02eb6",
        "trusted": false
      },
      "cell_type": "code",
      "source": "gauss.fit(gaus_X, y_train)\nbern.fit(bern_X, y_train)\nmulti.fit(mult_X, y_train)",
      "execution_count": null,
      "outputs": []
    },
    {
      "metadata": {
        "_cell_guid": "c52613c4-239b-4cbd-b295-530688ca473f",
        "collapsed": true,
        "_uuid": "1026d92ef09ea0bedbedf2f8ffa17ab12cb38862",
        "trusted": false
      },
      "cell_type": "code",
      "source": "gauss.fit(gaus_X, y_train)\nbern.fit(bern_X, y_train)\nmulti.fit(mult_X, y_train)",
      "execution_count": null,
      "outputs": []
    },
    {
      "metadata": {
        "_cell_guid": "55e590ba-616e-4f26-94c9-3ffe595623f9",
        "collapsed": true,
        "_uuid": "af95aa698b6b10652909d856fb426c8972b7f9f2",
        "trusted": false
      },
      "cell_type": "code",
      "source": "predict = model.predict(X_test)",
      "execution_count": null,
      "outputs": []
    },
    {
      "metadata": {
        "_cell_guid": "35de1d58-e98d-4c82-b8f1-9311cae4edf9",
        "collapsed": true,
        "_uuid": "c304e54d44bf33f24b0ee3cf4d9b54ae64f8c350",
        "trusted": false
      },
      "cell_type": "code",
      "source": "submission = pd.DataFrame()\nsubmission['msno'] = newdf[(newdf['expiration_date']>='2017-04-01')&(newdf['expiration_date']<'2017-05-01')].index\nsubmission['is_churn'] = predict\nsubmission.set_index('msno')",
      "execution_count": null,
      "outputs": []
    },
    {
      "metadata": {
        "_cell_guid": "a40516dc-602f-440b-a710-001c673f0a10",
        "collapsed": true,
        "_uuid": "4836476bd911f37c68a86b7762b1e69628c72e2b",
        "trusted": false
      },
      "cell_type": "code",
      "source": "submission.to_csv('submission.csv')",
      "execution_count": null,
      "outputs": []
    },
    {
      "metadata": {
        "_cell_guid": "e891d533-5cff-4efa-9705-ad128e7cfeff",
        "collapsed": true,
        "_uuid": "73836d9c0f967c8bf004a85785399ccaf084f1d5",
        "trusted": false
      },
      "cell_type": "code",
      "source": "",
      "execution_count": null,
      "outputs": []
    }
  ],
  "metadata": {
    "language_info": {
      "name": "python",
      "version": "3.6.3",
      "mimetype": "text/x-python",
      "codemirror_mode": {
        "name": "ipython",
        "version": 3
      },
      "pygments_lexer": "ipython3",
      "nbconvert_exporter": "python",
      "file_extension": ".py"
    },
    "kernelspec": {
      "display_name": "Python 3",
      "language": "python",
      "name": "python3"
    }
  },
  "nbformat": 4,
  "nbformat_minor": 1
}